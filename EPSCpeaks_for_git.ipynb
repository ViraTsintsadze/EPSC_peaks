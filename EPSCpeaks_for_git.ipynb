{
 "cells": [
  {
   "cell_type": "markdown",
   "metadata": {},
   "source": [
    "# EPSCs peaks\n",
    " "
   ]
  },
  {
   "cell_type": "markdown",
   "metadata": {},
   "source": [
    "## Introduction\n",
    "\n",
    "* ### What's EPSC?\n",
    "\n",
    "<img src=\"pc.jpg\" >\n",
    "\n",
    "Patch-clamp is a technique used to study ionic currents of cell membrane.\n",
    "By the patch clamp method, it is possible to record the electrical events occurring in a postsynaptic cell as a result of neurotransmitters’ release by the presynaptic terminal and the consecutive opening of ionotropic receptors. In the “voltage clamp” mode, the voltage is kept constant, so it is possible to record the current passing through the open ion channels, called “postsynaptic current” (PSC).\n",
    "\n",
    "For an excitatory synapse, the binding of neurotrasmitters induces the opening of cationic channels, which is depolarizing the cell. The induced electrical events are called <b>“excitatory postsynaptic currents” (EPSCs)</b>.\n",
    "\n",
    "Recording and analysing EPSCs is the powerful and popular technique for comparing excitability of neurons in desease models and control. For example, in my past lab in Marseille we observed excitability in neurons from TSC knock-out mice and we were able to find the receptor target to treat this abnormality. \n",
    "\n",
    "<img src=\"TSC_EPSCs.jpg\" >\n",
    "DOI: 10.1038/ncomms5563\n",
    "\n",
    "Here, we detected EPSCs, quantified the EPSCs frequency, align them by peak, averaged and found the difference in the shape of TSC-KO EPSCs. \n"
   ]
  },
  {
   "cell_type": "markdown",
   "metadata": {},
   "source": [
    "## Load abf file"
   ]
  },
  {
   "cell_type": "markdown",
   "metadata": {},
   "source": [
    "Electrophysiologists who use patch-clamp technique often use Axon Instruments Multiclamp  amplifiers to measure currents and potentials of neurons in the brain slices. It means, we always deal with abf files (Axon Binary Format). In this class I want to show you one of the ways to identify peaks of Excitatory Postsynaptic currents (EPSCs).\n",
    "So, first step will be the opening the data files in ABF format. For this we will use the [pyabf module](https://pypi.org/project/pyabf).</font>"
   ]
  },
  {
   "cell_type": "markdown",
   "metadata": {},
   "source": [
    "Some sample data, `learn024.abf`, will be used in this class. Let's import the `pyabf` module and use it to open abf file:\n"
   ]
  },
  {
   "cell_type": "code",
   "execution_count": 1,
   "metadata": {},
   "outputs": [],
   "source": [
    "import pyabf as pa               # package for loading abf data\n",
    "import scipy.signal as ss        # Scientific package for signal processing\n",
    "import numpy as np               # for numpy array objects\n",
    "import matplotlib.pyplot as plt  # Plotting package to visualize data\n"
   ]
  },
  {
   "cell_type": "markdown",
   "metadata": {},
   "source": [
    "### Exercise:\n",
    "\n",
    "Please create the string variable `abf_file` and assign the name of the file needed to open - `learn024.abf`"
   ]
  },
  {
   "cell_type": "code",
   "execution_count": 2,
   "metadata": {},
   "outputs": [],
   "source": [
    "# Answer\n",
    "abf_file = 'learn024.abf'"
   ]
  },
  {
   "cell_type": "markdown",
   "metadata": {},
   "source": [
    "Pass this filename as an argument into the loading function of pyabf. Syntaxis: `pa.ABF(\"your_file_name\")`. Save the result in the object `data_file`"
   ]
  },
  {
   "cell_type": "code",
   "execution_count": 3,
   "metadata": {},
   "outputs": [],
   "source": [
    "# Answer\n",
    "data_file = pa.ABF(abf_file)"
   ]
  },
  {
   "cell_type": "markdown",
   "metadata": {},
   "source": [
    "Let's use the functions `print` and `.format` to see how this data looks like.\n",
    "The result should be something like:\n",
    "`data_file is an ....`"
   ]
  },
  {
   "cell_type": "code",
   "execution_count": 15,
   "metadata": {},
   "outputs": [
    {
     "name": "stdout",
     "output_type": "stream",
     "text": [
      "data_file is an ABF (version 1.8.3.0) with 4 channels (pA, pA, mV, mV), sampled at 20.0 kHz, containing 10 sweeps, having no tags, with a total length of 0.46 minutes, recorded with protocol \"JAF 1 electrode  ST-EPSC\".\n"
     ]
    }
   ],
   "source": [
    "# Answer\n",
    "print(\"data_file is an {0}\".format(data_file))"
   ]
  },
  {
   "cell_type": "markdown",
   "metadata": {},
   "source": [
    "Check what type of data we've loaded by calling the `type` function."
   ]
  },
  {
   "cell_type": "code",
   "execution_count": 5,
   "metadata": {},
   "outputs": [
    {
     "data": {
      "text/plain": [
       "pyabf.abf.ABF"
      ]
     },
     "execution_count": 5,
     "metadata": {},
     "output_type": "execute_result"
    }
   ],
   "source": [
    "# Answer\n",
    "type(data_file)"
   ]
  },
  {
   "cell_type": "markdown",
   "metadata": {},
   "source": [
    "`data_file` is an object of class `ABF`. The `ABF` class is provided by the `pyabf` module (abbreviated `pa` in our code). Let's see what methods and attributes are provided by the `ABF` class. Remember that you can look up these methods and attributes by typing the name of the variable followed by a period and then hitting `TAB`. "
   ]
  },
  {
   "cell_type": "markdown",
   "metadata": {},
   "source": [
    "### Exercise:\n",
    "Print the date when the file was created"
   ]
  },
  {
   "cell_type": "code",
   "execution_count": 6,
   "metadata": {},
   "outputs": [
    {
     "name": "stdout",
     "output_type": "stream",
     "text": [
      "2018-08-31T15:42:36.734\n"
     ]
    }
   ],
   "source": [
    "# Answer \n",
    "print(data_file.abfDateTimeString)"
   ]
  },
  {
   "cell_type": "markdown",
   "metadata": {},
   "source": [
    "You'll notice two names, `sweepLabelX` and `sweepUnitsX` in the list of methods and attributes on `data_file`. What are these? Are they methods or attributes? How can you learn a little more about them?"
   ]
  },
  {
   "cell_type": "code",
   "execution_count": 7,
   "metadata": {},
   "outputs": [
    {
     "name": "stdout",
     "output_type": "stream",
     "text": [
      "Time (seconds)\n",
      "sec\n"
     ]
    }
   ],
   "source": [
    "# Answer\n",
    "print(data_file.sweepLabelX)\n",
    "print(data_file.sweepUnitsX)"
   ]
  },
  {
   "cell_type": "markdown",
   "metadata": {},
   "source": [
    "### Exercise:\n",
    "\n",
    "Create two new variables: `time` and `current` and assign arrays of time and current values of the `data_file`. "
   ]
  },
  {
   "cell_type": "code",
   "execution_count": 8,
   "metadata": {},
   "outputs": [],
   "source": [
    "# Answer\n",
    "time = data_file.sweepX\n",
    "current = data_file.sweepY"
   ]
  },
  {
   "cell_type": "markdown",
   "metadata": {},
   "source": [
    "### Exercise:\n",
    "Print the types of 'time' and 'current' variables. Use `.format` to make your output more readable. "
   ]
  },
  {
   "cell_type": "code",
   "execution_count": 9,
   "metadata": {},
   "outputs": [
    {
     "name": "stdout",
     "output_type": "stream",
     "text": [
      "the type of time is: <class 'numpy.ndarray'>\n",
      "the type of current is <class 'numpy.ndarray'>\n"
     ]
    }
   ],
   "source": [
    "# Answer\n",
    "print(\"the type of time is: {0}\".format(type(time)))\n",
    "print(\"the type of current is {0}\".format(type(current)))"
   ]
  },
  {
   "cell_type": "markdown",
   "metadata": {},
   "source": [
    "Cool! The data type returned here are `numpy` arrays. We've worked with these already in previous classes. \n",
    "\n",
    "### Excercise\n",
    "What are the dimensions of `time` and `current`? In other words, what are their shapes?"
   ]
  },
  {
   "cell_type": "code",
   "execution_count": 10,
   "metadata": {},
   "outputs": [
    {
     "name": "stdout",
     "output_type": "stream",
     "text": [
      "(50000,)\n",
      "(50000,)\n"
     ]
    }
   ],
   "source": [
    "# Answer\n",
    "print(time.shape)\n",
    "print(current.shape)"
   ]
  },
  {
   "cell_type": "markdown",
   "metadata": {},
   "source": [
    "\n",
    "### Exercise\n",
    "\n",
    "As a review from last week, how would we select only the current at the 34th time sample?\n",
    "\n",
    "Once you've extracted the current at the 34th time sample, please print the following string, `The current at sample 34 is XX YY` where XX is the current and YY is the unit (e.g., picoamps, nanoamps, etc.). *As a bonus, format the current value so it only prints the first two decimal places. Not sure how to do this? Use Google!"
   ]
  },
  {
   "cell_type": "code",
   "execution_count": 11,
   "metadata": {},
   "outputs": [
    {
     "name": "stdout",
     "output_type": "stream",
     "text": [
      "The current at this time is -32.958984375 pA\n",
      "The current at sample 34 is -32.96 pA\n",
      "The current at sample 34 is -32.96 pA\n"
     ]
    }
   ],
   "source": [
    "# Answer \n",
    "c_34 = current[34]\n",
    "print(\"The current at this time is {0} {1}\".format(c_34, data_file.sweepUnitsY))\n",
    "\n",
    "# using f-strings:\n",
    "i = 34\n",
    "string = f\"The current at sample {i} is {current[i]:.2f} {data_file.sweepUnitsY}\"\n",
    "print(string)\n",
    "\n",
    "# using format\n",
    "i = 34\n",
    "string = \"The current at sample {i} is {value:.2f} {units}\".format(i=i, value=current[i], units=data_file.sweepUnitsY)\n",
    "print(string)"
   ]
  },
  {
   "cell_type": "markdown",
   "metadata": {},
   "source": [
    "### Exercise: \n",
    "* Great, we know that the 34th sample recorded a current of -33 pA, but what if we wanted to know what was going at a particulur time, in seconds? To figure this out, we need to calculate the rate at which the data was sampled. As a hint, the difference between consecutive timepoints gives us the period. Save the calculated value in a variable, `sample_rate`.\n",
    "* After you've successfully done this, use `sample_rate` to figure out what the current was at 0.5 seconds and print the following string `The current at XX sec is YY ZZ` where XX is the timepoint, YY is the current and ZZ is the unit of the current.\n",
    "\n"
   ]
  },
  {
   "cell_type": "code",
   "execution_count": 12,
   "metadata": {
    "scrolled": true
   },
   "outputs": [
    {
     "name": "stdout",
     "output_type": "stream",
     "text": [
      "The current at 0.5 sec is -39.06 pA\n"
     ]
    }
   ],
   "source": [
    "# Answer\n",
    "sample_period = time[1] - time[0]\n",
    "sample_rate = 1/sample_period\n",
    "timepoint = 0.5\n",
    "sample = int(round(sample_rate * timepoint))\n",
    "value = current[sample]\n",
    "\n",
    "string = f\"The current at {timepoint} sec is {value:0.2f} {data_file.sweepUnitsY}\"\n",
    "print(string)"
   ]
  },
  {
   "cell_type": "markdown",
   "metadata": {},
   "source": [
    "\n",
    "### Excercise\n",
    "Let's extract the current from 0.1 to 0.2 sec and save it in a new variable, `data_slice`.\n"
   ]
  },
  {
   "cell_type": "code",
   "execution_count": 13,
   "metadata": {},
   "outputs": [
    {
     "name": "stdout",
     "output_type": "stream",
     "text": [
      "[-34.1797 -25.6348 -43.9453 ... -53.7109 -40.2832 -52.4902]\n"
     ]
    }
   ],
   "source": [
    "# Answer:\n",
    "t1_index = int(round(sample_rate * 0.1))\n",
    "t2_index = int(round(sample_rate * 0.2))\n",
    "\n",
    "data_slice = current[t1_index:t2_index]\n",
    "\n",
    "print(data_slice)"
   ]
  },
  {
   "cell_type": "markdown",
   "metadata": {},
   "source": [
    "#### Let's briefly summarize what we've done so far - \n",
    "* loaded data, \n",
    "* figured out data types, \n",
    "* calculated the sampling rate and \n",
    "* did a refresher on how to slice data from a numpy array."
   ]
  },
  {
   "cell_type": "markdown",
   "metadata": {},
   "source": [
    "# Plotting the data trace\n",
    "To visualize this data, we will use the package `matplotlib.pyplot`, which imported at the beginning as `plt`\n"
   ]
  },
  {
   "cell_type": "code",
   "execution_count": 14,
   "metadata": {},
   "outputs": [
    {
     "data": {
      "image/png": "[encoded data removed]",
      "text/plain": [
       "<Figure size 432x288 with 1 Axes>"
      ]
     },
     "metadata": {
      "needs_background": "light"
     },
     "output_type": "display_data"
    }
   ],
   "source": [
    "# Create a matplotlib figure and plot the trace. Note how we label the axes\n",
    "plt.figure()\n",
    "plt.plot(time, current, color='grey')\n",
    "plt.xlabel('Time (sec)')\n",
    "plt.ylabel('Current (pA)')\n",
    "plt.show()"
   ]
  },
  {
   "cell_type": "markdown",
   "metadata": {},
   "source": [
    " <img src=\"slice1.jpg\" width=300 >\n",
    "\n",
    "In our lab, we study synaptic transmission in Solitary nucleus (NTS) which is innervated by Solitary Truct and is a first reciever of information from peripheral neuros system. \n",
    "This trace is a patch-clamp recording from the NTS neuron in the slice including Solitary truct. The \"artifacts\" on the beginning caused by electric stimulation of the solitary truct. This stimulation evokes synchronous synaptic responses of NTS neurons from solitary truct, we call them *synchronous EPSCs*. Increasing stimuli intensity, we are able to see the thresholds for monosynaptic input and higher order connections on the neuron. You can get a lot of information about the network from the stimuli intensity thresholds, responce delay, shape and amplitude.\n",
    "Let's look close on them. \n",
    "\n",
    "### Exercise:\n",
    "* Using `plt.ylim((bottom, top))` shrink the Y axis from -500 to 100 pA.\n",
    "* Also shrink the x-axis in order to zoom in on the artifacts between 0.03 and 0.07 sec. See if you can figure out what function can perform this action.\n",
    "* Be sure to label the x and y axes."
   ]
  },
  {
   "cell_type": "code",
   "execution_count": 11,
   "metadata": {},
   "outputs": [
    {
     "data": {
      "image/png": "[encoded data removed]",
      "text/plain": [
       "<matplotlib.figure.Figure at 0x28af6878198>"
      ]
     },
     "metadata": {},
     "output_type": "display_data"
    }
   ],
   "source": [
    "# Answer\n",
    "plt.figure()\n",
    "plt.plot(time, current)\n",
    "plt.xlabel('Time (sec)')\n",
    "plt.ylabel('Current (pA)')\n",
    "plt.ylim((-500, 100))\n",
    "plt.xlim((0.03, 0.07))\n",
    "plt.show()"
   ]
  },
  {
   "cell_type": "markdown",
   "metadata": {},
   "source": [
    "### Exercise:\n",
    "* That looks good. But more often electrophysiologists need to analyse not evoked but spontaneous EPSC. So let's move the focus to the interval from 0.3 to 0.4 second of my recording, where we can see them. \n",
    "* To do this, we first need to locate the correct indexes. Please do this and save this indexes as two new variables: `t_03` and `t04`\n"
   ]
  },
  {
   "cell_type": "code",
   "execution_count": 12,
   "metadata": {},
   "outputs": [],
   "source": [
    "# Answer\n",
    "t_03 = int(round(sample_rate * 0.3))\n",
    "t_04 = int(round(sample_rate * 0.4))"
   ]
  },
  {
   "cell_type": "markdown",
   "metadata": {},
   "source": [
    "\n",
    "### Exercise:\n",
    "* Use these indexes to slice out the current trace betwee 0.3 and 0.4 seconds.\n",
    "* Save this data into two new arrays `short_time` and `short_data`.\n",
    "* Finally, plot this data\n"
   ]
  },
  {
   "cell_type": "code",
   "execution_count": 13,
   "metadata": {},
   "outputs": [
    {
     "data": {
      "text/plain": [
       "Text(0,0.5,'Current (pA)')"
      ]
     },
     "execution_count": 13,
     "metadata": {},
     "output_type": "execute_result"
    },
    {
     "data": {
      "image/png": "[encoded data removed]",
      "text/plain": [
       "<matplotlib.figure.Figure at 0x28af697bf28>"
      ]
     },
     "metadata": {},
     "output_type": "display_data"
    }
   ],
   "source": [
    "# Answer\n",
    "short_data = current[t_03:t_04]\n",
    "short_time = time[t_03:t_04]\n",
    "\n",
    "plt.figure()\n",
    "plt.plot(short_time, short_data, lw=.5)\n",
    "plt.xlabel('Time (sec)')\n",
    "plt.ylabel('Current (pA)')"
   ]
  },
  {
   "cell_type": "markdown",
   "metadata": {},
   "source": [
    "# Low-pass Filter "
   ]
  },
  {
   "cell_type": "markdown",
   "metadata": {},
   "source": [
    "Without filtering EPSC recordings are usually quite noisy, making them difficult to read. Therefore, before analysis it is common to first filter everything above 1 kHz. We will do this by designing a low-pass butterworth filter using scipy's `signal` module."
   ]
  },
  {
   "cell_type": "markdown",
   "metadata": {},
   "source": [
    "Filtering data requires two steps:\n",
    "\n",
    "* Designing the filter. A filter consists of two sets of coefficients, conventionally known as `b` and `a`. To calculate these coefficients, we use the `iirfilter` function available via `scipy`. Take a look at the documentation for the function. How many arguments are required? Hint. You can tell based on the number of parameters that do not have default values set.\n",
    "* Applying the filter. This can be done using `filtfilt`, which takes the filter coefficients and the data to be filtered.\n",
    "\n",
    "Let's start with a first-order butterworth filter with a cutoff frequency of 1000 Hz. We have to convert the cutoff frequency to a normalized frequency, `Wn`. Normalized frequency is defined as the number of half-cycles per sample (as indicated by the docstring for `iirfilter`, also can be thought of as a fraction of Nyquist frequency):\n",
    "\n",
    "    f_cutoff = 1000\n",
    "    Wn = f_cutoff / (sample_rate/2)"
   ]
  },
  {
   "cell_type": "code",
   "execution_count": 14,
   "metadata": {},
   "outputs": [],
   "source": [
    "# Design the filter\n",
    "f_cutoff = 1000\n",
    "Wn = f_cutoff / (sample_rate/2)\n",
    "b, a = ss.iirfilter(1, Wn, ftype='butter', btype='low')"
   ]
  },
  {
   "cell_type": "markdown",
   "metadata": {},
   "source": [
    "Next, we will apply to our \"short\" data"
   ]
  },
  {
   "cell_type": "code",
   "execution_count": 15,
   "metadata": {},
   "outputs": [
    {
     "data": {
      "text/plain": [
       "<matplotlib.legend.Legend at 0x28af69bc4a8>"
      ]
     },
     "execution_count": 15,
     "metadata": {},
     "output_type": "execute_result"
    },
    {
     "data": {
      "image/png": "[encoded data removed]",
      "text/plain": [
       "<matplotlib.figure.Figure at 0x28af69c4080>"
      ]
     },
     "metadata": {},
     "output_type": "display_data"
    }
   ],
   "source": [
    "# Apply the filter\n",
    "filtered_data = ss.filtfilt(b, a, short_data) #filtering\n",
    "\n",
    "# plot the filtered data\n",
    "plt.figure()\n",
    "plt.plot(short_time, short_data, lw=.5) #non-filtered data\n",
    "plt.plot (short_time, filtered_data)    #filtered data on top\n",
    "plt.xlabel('Time (s)')\n",
    "plt.ylabel('Current (pA)')\n",
    "plt.legend(['unfiltered data', 'filtered data'])"
   ]
  },
  {
   "cell_type": "markdown",
   "metadata": {},
   "source": [
    "# Power Spectral Density\n",
    "\n",
    "Power Spectral Density (PSD) is very usefull to check did the filter work properly.\n",
    "There is the function `psd` in the `matplotlib.pyplot` module which we imported as `plt`.\n",
    "### Exercise\n",
    "* Using documentation, figure out hoe to use `psd` function\n",
    "* Plot PSD of both `short_data` and `filtered_data`\n",
    "* Make the axis of frequencies logarithmic. Hint: xscale('log')"
   ]
  },
  {
   "cell_type": "code",
   "execution_count": 16,
   "metadata": {},
   "outputs": [
    {
     "data": {
      "image/png": "[encoded data removed]",
      "text/plain": [
       "<matplotlib.figure.Figure at 0x28af69add68>"
      ]
     },
     "metadata": {},
     "output_type": "display_data"
    }
   ],
   "source": [
    "# Answer\n",
    "plt.psd(short_data, Fs=sample_rate);\n",
    "plt.psd(filtered_data, Fs=sample_rate)\n",
    "plt.xscale('log')"
   ]
  },
  {
   "cell_type": "markdown",
   "metadata": {},
   "source": [
    "Let's low-filter the signla with cut-off frequency 200 Hz and see what will happend with the signal and it's PSD. \n",
    "\n",
    "### Exercise\n",
    "* Design the filter with cut-off frequency 200 Hz.\n",
    "* Filter the `short_data` and save the result in new `filtered_data200` array\n",
    "* plot `filtered_data` and `filtered_data200` on top of each other\n",
    "* Label axises and add the legend "
   ]
  },
  {
   "cell_type": "code",
   "execution_count": 27,
   "metadata": {},
   "outputs": [
    {
     "data": {
      "text/plain": [
       "<matplotlib.legend.Legend at 0x28af9a5ae10>"
      ]
     },
     "execution_count": 27,
     "metadata": {},
     "output_type": "execute_result"
    },
    {
     "data": {
      "image/png": "[encoded data removed]",
      "text/plain": [
       "<matplotlib.figure.Figure at 0x28af99df400>"
      ]
     },
     "metadata": {},
     "output_type": "display_data"
    }
   ],
   "source": [
    "# Answer\n",
    "f_cutoff = 200\n",
    "Wn = f_cutoff / (sample_rate/2)\n",
    "b, a = ss.iirfilter(1, Wn, ftype='butter', btype='low')#designing the filter\n",
    "filtered_data200 = ss.filtfilt(b, a, short_data) #filtering\n",
    "#Plotting\n",
    "plt.figure()\n",
    "plt.plot(short_time, filtered_data,'r' ,lw=2) #non-filtered data\n",
    "plt.plot (short_time, filtered_data200, 'k', lw=2)    #filtered data on top\n",
    "plt.xlabel('Time (s)')\n",
    "plt.ylabel('Current (pA)')\n",
    "plt.legend(['Order 1', 'Order 5'])"
   ]
  },
  {
   "cell_type": "markdown",
   "metadata": {},
   "source": [
    "Let's see how PSD changed\n",
    "\n",
    "### Exercise\n",
    "* plot PSD of all three signals: short_data, filtered_data and filtered_data200.\n",
    "* Make the axis of frequencies logarithmic\n",
    "* Add the legend"
   ]
  },
  {
   "cell_type": "code",
   "execution_count": 35,
   "metadata": {},
   "outputs": [
    {
     "data": {
      "text/plain": [
       "<matplotlib.legend.Legend at 0x28afacaaba8>"
      ]
     },
     "execution_count": 35,
     "metadata": {},
     "output_type": "execute_result"
    },
    {
     "data": {
      "image/png": "[encoded data removed]",
      "text/plain": [
       "<matplotlib.figure.Figure at 0x28af98ede80>"
      ]
     },
     "metadata": {},
     "output_type": "display_data"
    }
   ],
   "source": [
    "# Answer\n",
    "plt.psd(short_data, Fs=sample_rate, color='grey')\n",
    "plt.psd(filtered_data, Fs=sample_rate, color='r')\n",
    "plt.psd(filtered_data200, Fs=sample_rate, color='k')\n",
    "plt.xscale('log')\n",
    "plt.legend(['Non-filtered','Low-pass 1000', 'Low-pass 200'])"
   ]
  },
  {
   "cell_type": "markdown",
   "metadata": {},
   "source": [
    "# Find the location of EPSC peaks\n",
    "\n",
    "We have reviewed a big topic of e-phys analysis, data filtering.\n",
    "Let's come back to the main topic of the EPSC peaks finding.\n",
    "Knowing the EPSC peak times, we can make lots of different analisys. We can avarege EPSCs, quantify the frequensy, amplitude, decay time etc. \n",
    "We will test `argrelmin` function from `scipy.signal` module for this.\n",
    "\n",
    " **scipy.signal.argrelmin(data, axis=0, order=1, mode='clip')**\n",
    " \n",
    "    Calculate the relative minima of data.\n",
    "    Parameters:\n",
    "            data : ndarray         #Array in which to find the relative minima.\n",
    "            axis : int, optional   #Axis over which to select from data. Default is 0.\n",
    "            order : int, optional  #How many points on each side to use\n",
    "                                   #for the comparison to consider comparator(n, n+x) to be True.\n",
    "            mode : str, optional   #How the edges of the vector are treated. Available options are ‘wrap’ \n",
    "                                   #(wrap around) or ‘clip’ \n",
    "                                   #(treat overflow as the same as the last (or first) element). \n",
    "\n",
    "    Returns:\t\n",
    "            extrema : tuple of ndarrays\n",
    "                                   #Indices of the minima in arrays of integers. \n",
    "                                   #extrema[k] is the array of indices of axis k of data.\n"
   ]
  },
  {
   "cell_type": "markdown",
   "metadata": {},
   "source": [
    "### Exercise:\n",
    "We imported already `scipy.signal` module as `ss`.\n",
    "\n",
    "Using the `argrelmin` function, find the relative minima of `filtered_data` and save them to the new tuple *argrelmin_res*.\n",
    "Print result."
   ]
  },
  {
   "cell_type": "code",
   "execution_count": 37,
   "metadata": {
    "scrolled": true
   },
   "outputs": [
    {
     "name": "stdout",
     "output_type": "stream",
     "text": [
      "(array([  37,   66,   72,  164,  179,  190,  197,  214,  224,  228,  268,\n",
      "        284,  309,  333,  371,  376,  400,  404,  460,  488,  528,  541,\n",
      "        550,  570,  592,  598,  606,  671,  698,  704,  725,  731,  774,\n",
      "        807,  817,  835,  847,  866,  920,  954,  976,  992, 1024, 1029,\n",
      "       1032, 1057, 1070, 1080, 1118, 1134, 1164, 1169, 1214, 1224, 1308,\n",
      "       1318, 1352, 1356, 1397, 1440, 1454, 1484, 1500, 1526, 1541, 1545,\n",
      "       1583, 1588, 1617, 1655, 1670, 1724, 1731, 1770, 1777, 1781, 1793,\n",
      "       1826, 1846, 1854, 1879, 1929, 1947, 1984, 2015, 2022, 2038, 2061,\n",
      "       2075, 2082, 2103, 2133, 2139, 2152, 2160, 2191, 2204, 2219, 2260,\n",
      "       2284, 2349, 2354, 2454, 2467, 2476, 2490, 2497, 2512, 2568, 2602,\n",
      "       2621, 2632, 2660, 2711, 2784, 2930, 2981, 3023, 3034, 3050, 3126,\n",
      "       3148, 3156, 3166, 3173, 3183, 3193, 3200, 3214, 3228, 3241, 3251,\n",
      "       3264, 3273, 3280, 3305, 3332, 3344, 3377, 3400, 3417, 3457, 3463,\n",
      "       3481, 3489, 3498, 3512, 3521, 3524, 3536, 3551, 3568, 3573, 3580,\n",
      "       3589, 3592, 3635, 3642, 3653, 3699, 3721, 3728, 3739, 3754, 3813,\n",
      "       3825, 3867, 3888, 3917, 3940, 3983, 4029, 4035, 4064, 4094, 4099,\n",
      "       4143, 4146, 4215, 4401, 4413, 4447, 4460, 4470, 4494, 4497, 4538,\n",
      "       4556, 4566, 4620, 4627, 4657, 4670, 4708, 4732, 4745, 4785, 4797,\n",
      "       4842, 4845, 4873, 4894, 4927, 4945, 4975, 4987, 5011, 5016, 5048,\n",
      "       5105, 5132, 5165, 5172, 5180, 5183, 5227, 5245, 5269, 5276, 5283,\n",
      "       5360, 5492, 5574, 5602, 5604, 5608, 5643, 5674, 5678, 5704, 5709,\n",
      "       5715, 5784, 5854, 5899, 5906, 5918, 5957, 6004, 6010, 6015, 6026,\n",
      "       6041, 6078, 6101, 6111, 6113, 6125, 6153, 6170, 6185, 6228, 6283,\n",
      "       6291, 6314, 6320, 6336, 6361, 6367, 6394, 6410, 6421, 6428, 6470,\n",
      "       6477, 6488, 6501, 6510, 6518, 6523, 6570, 6591, 6616, 6620, 6658,\n",
      "       6676, 6680, 6690, 6735, 6780, 6805, 6812, 6816, 6865, 6878, 6896,\n",
      "       6916, 6965, 7040, 7121, 7184, 7193, 7261, 7284, 7301, 7306, 7334,\n",
      "       7350, 7361, 7370, 7376, 7413, 7439, 7472, 7480, 7503, 7510, 7529,\n",
      "       7539, 7571, 7621, 7625, 7636, 7661, 7666, 7692, 7700, 7710, 7716,\n",
      "       7780, 7798, 7854, 7905, 7934, 7950, 7957], dtype=int64),)\n"
     ]
    }
   ],
   "source": [
    "# Answer\n",
    "argrelmin_res = ss.argrelmin(filtered_data)\n",
    "print (argrelmin_res)"
   ]
  },
  {
   "cell_type": "markdown",
   "metadata": {},
   "source": [
    "That's deffinitely not what we expected. Let's change the parameters of the function. Order (How many points on each side to use) sounds right. Let's change it to 1000 and run the function one more time."
   ]
  },
  {
   "cell_type": "code",
   "execution_count": 38,
   "metadata": {},
   "outputs": [
    {
     "name": "stdout",
     "output_type": "stream",
     "text": [
      "(array([ 920, 2784, 4215, 5360, 7121], dtype=int64),)\n"
     ]
    }
   ],
   "source": [
    "argrelmin_res = ss.argrelmin(filtered_data, order=1000)\n",
    "print (argrelmin_res)"
   ]
  },
  {
   "cell_type": "markdown",
   "metadata": {},
   "source": [
    "# Mask data based on current threshold"
   ]
  },
  {
   "cell_type": "markdown",
   "metadata": {},
   "source": [
    "This looks better, but still not exactly what we need. \n",
    "Let's say, we don't need to identify any events lower they 50 pA in amplitude.\n",
    "We can create the logic mask, there \">-50\" is no events (False) and \"<-50\" means current is higher then 50 pA by amplitude, mask value will be \"True\". \n"
   ]
  },
  {
   "cell_type": "code",
   "execution_count": 39,
   "metadata": {},
   "outputs": [],
   "source": [
    "threshold = -50   # Don't want to call anything below -50 pA an EPSC event\n",
    "\n",
    "# create a \"mask\" over all the data that meets this criteria\n",
    "mask = filtered_data < threshold"
   ]
  },
  {
   "cell_type": "code",
   "execution_count": 40,
   "metadata": {},
   "outputs": [
    {
     "name": "stdout",
     "output_type": "stream",
     "text": [
      "[False False False ... False False False]\n"
     ]
    },
    {
     "data": {
      "text/plain": [
       "[<matplotlib.lines.Line2D at 0x28afadf3198>]"
      ]
     },
     "execution_count": 40,
     "metadata": {},
     "output_type": "execute_result"
    },
    {
     "data": {
      "image/png": "[encoded data removed]",
      "text/plain": [
       "<matplotlib.figure.Figure at 0x28afad5a710>"
      ]
     },
     "metadata": {},
     "output_type": "display_data"
    }
   ],
   "source": [
    "# see how mask is just an array of true and false?\n",
    "print(mask)\n",
    "plt.plot(mask)"
   ]
  },
  {
   "cell_type": "markdown",
   "metadata": {},
   "source": [
    " Function `argrelmin` returns a  tuple of arrays, and the return value is a tuple even when data is one-dimensional. Thus, the array of peaks will be argrelmin_res[0]"
   ]
  },
  {
   "cell_type": "code",
   "execution_count": 49,
   "metadata": {},
   "outputs": [
    {
     "name": "stdout",
     "output_type": "stream",
     "text": [
      "[ 920 2784 4215 5360 7121]\n"
     ]
    }
   ],
   "source": [
    "all_peaks = ss.argrelmin(filtered_data, order=1000)[0]\n",
    "print (all_peaks)"
   ]
  },
  {
   "cell_type": "markdown",
   "metadata": {},
   "source": [
    "That gaves us 5 peaks, as we saw above. We only actually was the three. So, now we use the mask to only keep\n",
    "peaks ocurring when the traces was bigger than threshold.\n",
    "Below there is a small loop sorting out the peaks not overlapping with mask."
   ]
  },
  {
   "cell_type": "code",
   "execution_count": 50,
   "metadata": {},
   "outputs": [
    {
     "name": "stdout",
     "output_type": "stream",
     "text": [
      "These were all peaks detected by argrelmin: [ 920 2784 4215 5360 7121]\n",
      "Only these peaks: [2784, 4215, 5360] exceeded the threshold of -50 pA\n"
     ]
    }
   ],
   "source": [
    "EPSC_peaks = []  #empty array for saving the right peaks in\n",
    "\n",
    "for peak in all_peaks:\n",
    "    if mask[peak] == True:         #overlapping with mask     \n",
    "        EPSC_peaks.append(peak)    #add this peak to the end of EPSC_peaks array\n",
    "    else:\n",
    "        pass\n",
    "\n",
    "print(\"These were all peaks detected by argrelmin: {0}\".format(all_peaks))\n",
    "\n",
    "print(\"Only these peaks: {0} exceeded the threshold of -50 pA\".format(EPSC_peaks))"
   ]
  },
  {
   "cell_type": "markdown",
   "metadata": {},
   "source": [
    "Now, let's plot these peaks overlayed on the trace to confirm we ID'd the right ones.\n",
    "\n",
    "### Exercise:\n",
    "* Plot `filtered_data` currents vs time. Make it grey (color='grey') \n",
    "* Plot EPSC peaks as black stars (\"*\", color='k', markersize=10) on top of the current trace. \n",
    "\n",
    "Hint:`EPSC_peaks` array stores the indexes of EPSC peaks. The times of EPSC peaks are `short_time[EPSC_peaks]` and the current values in these point are `filtered_data[EPSC_peaks]`.\n"
   ]
  },
  {
   "cell_type": "code",
   "execution_count": 51,
   "metadata": {},
   "outputs": [
    {
     "data": {
      "text/plain": [
       "Text(0,0.5,'Current (pA)')"
      ]
     },
     "execution_count": 51,
     "metadata": {},
     "output_type": "execute_result"
    },
    {
     "data": {
      "image/png": "[encoded data removed]",
      "text/plain": [
       "<matplotlib.figure.Figure at 0x28afb34a390>"
      ]
     },
     "metadata": {},
     "output_type": "display_data"
    }
   ],
   "source": [
    "# Answer\n",
    "plt.figure()\n",
    "plt.plot(short_time, filtered_data, color='grey')\n",
    "plt.plot(short_time[EPSC_peaks], filtered_data[EPSC_peaks], \"*\", color='k', markersize=10)\n",
    "plt.xlabel('Time (sec)')\n",
    "plt.ylabel('Current (pA)')"
   ]
  },
  {
   "cell_type": "markdown",
   "metadata": {},
   "source": [
    "Now, we are going to combine everything we've done below for analysing the bigger piece of data. \n",
    "We still have the entire recording of current values saved as `current = data_file.sweepY` and time as `time = data_file.sweepX`\n",
    "\n",
    "## Exercise:\n",
    "\n",
    "Extract data from 0.08 to 0.4 sec. Save current and time arrays as `time1` and `current1` "
   ]
  },
  {
   "cell_type": "code",
   "execution_count": 55,
   "metadata": {},
   "outputs": [],
   "source": [
    "# Answer\n",
    "start = int(round(0.08*sample_rate))\n",
    "end = int(round(0.4*sample_rate))\n",
    "time1 = time[start:end]\n",
    "current1 = current[start:end]"
   ]
  },
  {
   "cell_type": "markdown",
   "metadata": {},
   "source": [
    "## Exercise:\n",
    "\n",
    "Lowpass filter `current1` with a butterworth using a cutoff of 1000 Hz.\n",
    "Save to `current1_filtered`"
   ]
  },
  {
   "cell_type": "code",
   "execution_count": 56,
   "metadata": {},
   "outputs": [],
   "source": [
    "# Answer\n",
    "f_cutoff = 1000\n",
    "Wn = f_cutoff/(sample_rate/2) # normalized cutoff frequency  \n",
    "b, a = ss.iirfilter(1, Wn, ftype='butter', btype='low')#designing the filter\n",
    "current1_filtered = ss.filtfilt(b, a, current1) #filtering"
   ]
  },
  {
   "cell_type": "markdown",
   "metadata": {},
   "source": [
    "Create the variable `thresh` and set it equal to -47."
   ]
  },
  {
   "cell_type": "code",
   "execution_count": 57,
   "metadata": {},
   "outputs": [],
   "source": [
    "# Answer\n",
    "thresh = -47"
   ]
  },
  {
   "cell_type": "markdown",
   "metadata": {},
   "source": [
    "Finally, create the array `mask` with logical values, where *current value < thresh* is  *True*  for `current1_filtered`"
   ]
  },
  {
   "cell_type": "code",
   "execution_count": 60,
   "metadata": {},
   "outputs": [],
   "source": [
    "# Answer\n",
    "mask = current1_filtered < thresh"
   ]
  },
  {
   "cell_type": "markdown",
   "metadata": {},
   "source": [
    "Now finding EPSC peaks\n",
    "\n",
    "## Exercise:\n",
    "\n",
    "* Using `argrelmin` with order = 25, create array `all_peaks` with minimas of `current1_filtered`\n",
    "* Print `all_peaks`\n"
   ]
  },
  {
   "cell_type": "code",
   "execution_count": 61,
   "metadata": {},
   "outputs": [
    {
     "name": "stdout",
     "output_type": "stream",
     "text": [
      "[  134   236   346   390   511   556   661   800   908  1040  1079  1175\n",
      "  1225  1364  1539  1630  1685  1785  1825  1869  1936  2108  2421  2536\n",
      "  2637  2727  2761  2832  2893  3085  3120  3196  3411  3490  3540  3599\n",
      "  3652  3723  3808  3867  3935  4127  4190  4277  4326  4449  4542  4633\n",
      "  4771  4825  4880  4994  5118  5182  5313  5468  5546  5660  5801  5868\n",
      "  6004  6179  6310  6452  6662  6792  6847  7018  7070  7223  7370  7430\n",
      "  7524  7646  7825  8007  8074  8158  8243  8316  8511  8876  8942  9050\n",
      "  9231  9277  9345  9514  9632  9711  9886  9981 10074 10221 10306 10419\n",
      " 10509 10568 10619 10791 10870 10993 11093 11217 11346 11456 11511 11557\n",
      " 11638 11696 11820 11854 11958 12056 12131 12270 12348 12403 12537 12647\n",
      " 12703 12885 12991 13200 13233 13287 13477 13552 13617 13751 13872 13968\n",
      " 14070 14176 14479 14518 14560 14626 14750 14832 14890 15062 15136 15219\n",
      " 15316 15466 15535 15586 15641 15688 15771 15885 16047 16096 16248 16348\n",
      " 16419 16466 16558 16785 16861 16997 17079 17144 17188 17238 17364 17424\n",
      " 17537 17628 17764 17868 17909 18004 18060 18170 18325 18417 18520 18576\n",
      " 18632 18670 18814 18918 18997 19054 19100 19183 19270 19426 19479 19547\n",
      " 19622 19661 19739 19791 19860 19954 20076 20112 20202 20260 20384 20530\n",
      " 20726 20783 20851 21000 21081 21151 21235 21354 21425 21467 21540 21583\n",
      " 21694 21815 22097 22138 22220 22345 22445 22575 22732 22845 22960 23204\n",
      " 23384 23518 23641 23725 23785 23883 23961 24077 24110 24191 24335 24405\n",
      " 24565 24640 24721 24861 24976 25103 25171 25236 25316 25454]\n"
     ]
    }
   ],
   "source": [
    "# Answer\n",
    "all_peaks = ss.argrelmin(current1_filtered, order=25)[0]\n",
    "print (all_peaks)"
   ]
  },
  {
   "cell_type": "markdown",
   "metadata": {},
   "source": [
    "# Exercise:\n",
    "\n",
    "This code has a mistake and won't run. Please fix the mistake and run it:\n",
    "\n",
    "    # Use mask to screen for real peaks\n",
    "    EPSC_peaks = []\n",
    "\n",
    "    for peak in all_peaks:\n",
    "        if mask[peak] = True:\n",
    "            EPSC_peaks.append(peak)\n",
    "        else:\n",
    "            pass\n"
   ]
  },
  {
   "cell_type": "code",
   "execution_count": 62,
   "metadata": {},
   "outputs": [],
   "source": [
    "# Answer\n",
    "EPSC_peaks = []\n",
    "\n",
    "for peak in all_peaks:\n",
    "    if mask[peak] == True:\n",
    "        EPSC_peaks.append(peak)\n",
    "    else:\n",
    "        pass\n"
   ]
  },
  {
   "cell_type": "markdown",
   "metadata": {},
   "source": [
    "# Exercise:\n",
    "\n",
    "Plot this results to see if it makes any sense:\n",
    "* Plot `current1_filtered` in it's time axis in grey color\n",
    "* Plot `EPSC_peaks` as big red stars on top of it\n",
    "* Plot `all_peaks` as black dots on top of everything"
   ]
  },
  {
   "cell_type": "code",
   "execution_count": 63,
   "metadata": {},
   "outputs": [
    {
     "data": {
      "text/plain": [
       "[<matplotlib.lines.Line2D at 0x28afb4fe828>]"
      ]
     },
     "execution_count": 63,
     "metadata": {},
     "output_type": "execute_result"
    },
    {
     "data": {
      "image/png": "[encoded data removed]",
      "text/plain": [
       "<matplotlib.figure.Figure at 0x28afae9fb38>"
      ]
     },
     "metadata": {},
     "output_type": "display_data"
    }
   ],
   "source": [
    "# Answer\n",
    "plt.figure()\n",
    "plt.plot(time1, current1_filtered, 'grey')\n",
    "plt.plot(time1[(EPSC_peaks)], current1_filtered[(EPSC_peaks)], '*', color='r', markersize=10)\n",
    "plt.plot(time1[(all_peaks)], current1_filtered[(all_peaks)], '.', color='k', markersize=2)"
   ]
  },
  {
   "cell_type": "markdown",
   "metadata": {},
   "source": [
    "# Exercise:\n",
    "* Using **numpy.mean** and **numpy.std** functions, calculate and print mean and standard deviation of EPSC peak amplitude."
   ]
  },
  {
   "cell_type": "code",
   "execution_count": 64,
   "metadata": {},
   "outputs": [
    {
     "name": "stdout",
     "output_type": "stream",
     "text": [
      "EPSC peak amplitude is -63.66235633635711 +/- 13.005805199094208\n"
     ]
    }
   ],
   "source": [
    "# Answer\n",
    "print (\"EPSC peak amplitude is {} +/- {}\".format\\\n",
    "       ( np.mean(current1_filtered[(EPSC_peaks)]) , np.std(current1_filtered[(EPSC_peaks)])))"
   ]
  },
  {
   "cell_type": "markdown",
   "metadata": {},
   "source": [
    "* calculate EPSC frequency as number of events in one second. Hint: `EPSC_peaks is a list`, you can get it's lenth - **len(Your_list)**"
   ]
  },
  {
   "cell_type": "code",
   "execution_count": 65,
   "metadata": {},
   "outputs": [
    {
     "name": "stdout",
     "output_type": "stream",
     "text": [
      "EPSC frequency is 31.25 Hz\n"
     ]
    }
   ],
   "source": [
    "# Answer\n",
    "Dur_in_sec = len(current1_filtered)/sample_rate\n",
    "PF = len(EPSC_peaks)/Dur_in_sec \n",
    "print(\"EPSC frequency is {} Hz\".format(PF))"
   ]
  },
  {
   "cell_type": "markdown",
   "metadata": {},
   "source": [
    "# Summary\n",
    "\n",
    "   * **pyabf** loads ABF files and presents data in `numpy` format\n",
    "   * Low-pass Butterworth filter works in two steps\n",
    "   * `argrelmin` from **scipy signal** works well but might require some additional tweaks to get it to work the way you want\n",
    "   \n",
    "# Thank you! \n",
    "   "
   ]
  }
 ],
 "metadata": {
  "kernelspec": {
   "display_name": "Python 3",
   "language": "python",
   "name": "python3"
  },
  "language_info": {
   "codemirror_mode": {
    "name": "ipython",
    "version": 3
   },
   "file_extension": ".py",
   "mimetype": "text/x-python",
   "name": "python",
   "nbconvert_exporter": "python",
   "pygments_lexer": "ipython3",
   "version": "3.7.4"
  }
 },
 "nbformat": 4,
 "nbformat_minor": 2
}
